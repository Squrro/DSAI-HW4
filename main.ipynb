{
  "nbformat": 4,
  "nbformat_minor": 0,
  "metadata": {
    "colab": {
      "name": "main.ipynb",
      "provenance": [],
      "collapsed_sections": [],
      "mount_file_id": "1Wl564bRRtP9b14AaMfz2EMVGmqVyNzJq",
      "authorship_tag": "ABX9TyOS/kPRh7Huyp6zRriqApMG",
      "include_colab_link": true
    },
    "kernelspec": {
      "name": "python3",
      "display_name": "Python 3"
    },
    "language_info": {
      "name": "python"
    }
  },
  "cells": [
    {
      "cell_type": "markdown",
      "metadata": {
        "id": "view-in-github",
        "colab_type": "text"
      },
      "source": [
        "<a href=\"https://colab.research.google.com/github/Squrro/DSAI-HW4/blob/main/main.ipynb\" target=\"_parent\"><img src=\"https://colab.research.google.com/assets/colab-badge.svg\" alt=\"Open In Colab\"/></a>"
      ]
    },
    {
      "cell_type": "code",
      "metadata": {
        "id": "jci8B-Jwmk1x"
      },
      "source": [
        "# Author : Paul-Antoine Nguyen\n",
        "\n",
        "# This script considers all the products a user has ordered\n",
        "#\n",
        "# We train a model computing the probability of reorder on the \"train\" data\n",
        "#\n",
        "# For the submission, we keep the orders that have a probability of\n",
        "# reorder higher than a threshold\n",
        "\n",
        "\n",
        "import numpy as np\n",
        "import pandas as pd\n",
        "import lightgbm as lgb\n",
        "import warnings\n",
        "warnings.filterwarnings(\"ignore\")\n",
        "# input資料夾位置\n",
        "dir = '/content/drive/MyDrive/Colab Notebooks/資料科學/'\n"
      ],
      "execution_count": 1,
      "outputs": []
    },
    {
      "cell_type": "markdown",
      "metadata": {
        "id": "QNiVD4tVO5Nb"
      },
      "source": [
        "##讀取資料"
      ]
    },
    {
      "cell_type": "code",
      "metadata": {
        "id": "PR7zwYYypnhA"
      },
      "source": [
        "priors = pd.read_csv(dir + 'order_products__prior.csv', dtype={\n",
        "            'order_id': np.int32,\n",
        "            'product_id': np.uint16,\n",
        "            'add_to_cart_order': np.int16,\n",
        "            'reordered': np.int8})"
      ],
      "execution_count": 2,
      "outputs": []
    },
    {
      "cell_type": "code",
      "metadata": {
        "id": "mGPyL9JvppYR"
      },
      "source": [
        "train = pd.read_csv(dir + 'order_products__train.csv', dtype={\n",
        "            'order_id': np.int32,\n",
        "            'product_id': np.uint16,\n",
        "            'add_to_cart_order': np.int16,\n",
        "            'reordered': np.int8})"
      ],
      "execution_count": 3,
      "outputs": []
    },
    {
      "cell_type": "code",
      "metadata": {
        "id": "0FNfj1pmpsBF"
      },
      "source": [
        "orders = pd.read_csv(dir + 'orders.csv', dtype={\n",
        "        'order_id': np.int32,\n",
        "        'user_id': np.int32,\n",
        "        'eval_set': 'category',\n",
        "        'order_number': np.int16,\n",
        "        'order_dow': np.int8,\n",
        "        'order_hour_of_day': np.int8,\n",
        "        'days_since_prior_order': np.float32})"
      ],
      "execution_count": 4,
      "outputs": []
    },
    {
      "cell_type": "code",
      "metadata": {
        "id": "DPJiOOF2puZC"
      },
      "source": [
        "products = pd.read_csv(dir + 'products.csv', dtype={\n",
        "        'product_id': np.uint16,\n",
        "        'order_id': np.int32,\n",
        "        'aisle_id': np.uint8,\n",
        "        'department_id': np.uint8},\n",
        "        usecols=['product_id', 'aisle_id', 'department_id'])"
      ],
      "execution_count": 5,
      "outputs": []
    },
    {
      "cell_type": "markdown",
      "metadata": {
        "id": "W0CUGu7WPBVe"
      },
      "source": [
        "##產品feature"
      ]
    },
    {
      "cell_type": "code",
      "metadata": {
        "id": "WOUMZ-I3mtS3"
      },
      "source": [
        "###\n",
        "\n",
        "prods = pd.DataFrame()\n",
        "prods['orders'] = priors.groupby(priors.product_id).size().astype(np.int32)\n",
        "prods['reorders'] = priors['reordered'].groupby(priors.product_id).sum().astype(np.float32)\n",
        "prods['reorder_rate'] = (prods.reorders / prods.orders).astype(np.float32)\n",
        "prods['Order2Reorder_rate'] = (prods.orders * prods.orders * prods.reorder_rate).astype(np.float32)\n",
        "products = products.join(prods, on='product_id')\n",
        "products.set_index('product_id', drop=False, inplace=True)"
      ],
      "execution_count": 6,
      "outputs": []
    },
    {
      "cell_type": "code",
      "metadata": {
        "id": "ktclG708mwBR"
      },
      "source": [
        "\n",
        "orders.set_index('order_id', inplace=True, drop=False)\n",
        "priors = priors.join(orders, on='order_id', rsuffix='_')\n",
        "priors.drop('order_id_', inplace=True, axis=1)\n"
      ],
      "execution_count": 7,
      "outputs": []
    },
    {
      "cell_type": "code",
      "metadata": {
        "id": "IJ2Gn6ZTPff2"
      },
      "source": [
        "cnt_srs = priors['product_id'].value_counts().reset_index()\n",
        "cnt_srs.columns = ['product_id', 'frequency_count']\n",
        "# TOP50最熱賣\n",
        "most_sell = cnt_srs.product_id[0:49]"
      ],
      "execution_count": null,
      "outputs": []
    },
    {
      "cell_type": "markdown",
      "metadata": {
        "id": "3mRWJKEJPKyj"
      },
      "source": [
        "##使用者feature"
      ]
    },
    {
      "cell_type": "code",
      "metadata": {
        "id": "NTVJpJs8m1mK"
      },
      "source": [
        "### user features\n",
        "\n",
        "\n",
        "usr = pd.DataFrame()\n",
        "usr['average_days_between_orders'] = orders.groupby('user_id')['days_since_prior_order'].mean().astype(np.float32)\n",
        "usr['nb_orders'] = orders.groupby('user_id').size().astype(np.int16)\n",
        "\n",
        "users = pd.DataFrame()\n",
        "users['total_items'] = priors.groupby('user_id').size().astype(np.int16)\n",
        "users['all_products'] = priors.groupby('user_id')['product_id'].apply(set)\n",
        "users['total_distinct_items'] = (users.all_products.map(len)).astype(np.int16)\n",
        "\n",
        "users = users.join(usr)\n",
        "\n",
        "users['average_basket'] = (users.total_items / users.nb_orders).astype(np.float32)\n"
      ],
      "execution_count": 8,
      "outputs": []
    },
    {
      "cell_type": "markdown",
      "metadata": {
        "id": "UmBP8VhZPsEw"
      },
      "source": [
        "##額外增加feature"
      ]
    },
    {
      "cell_type": "code",
      "metadata": {
        "colab": {
          "base_uri": "https://localhost:8080/",
          "height": 449
        },
        "id": "H2_Qo_cmm98v",
        "outputId": "8e8a3b98-12b4-4f2d-f5e4-5195ed4f51f7"
      },
      "source": [
        "# fast\n",
        "userXproduct = priors.copy()\n",
        "userXproduct['user_product'] = userXproduct.product_id + userXproduct.user_id * 100000\n",
        "userXproduct = userXproduct.sort_values('order_number')\n",
        "userXproduct = userXproduct \\\n",
        "    .groupby('user_product', sort=False) \\\n",
        "    .agg({'order_id': ['size', 'last'], 'add_to_cart_order': 'sum'})\n",
        "userXproduct.columns = ['nb_orders', 'last_order_id', 'sum_pos_in_cart']\n",
        "userXproduct.astype(\n",
        "    {'nb_orders': np.int16, 'last_order_id': np.int32, 'sum_pos_in_cart': np.int16}, \n",
        "    # inplace=True\n",
        "    )"
      ],
      "execution_count": 10,
      "outputs": [
        {
          "output_type": "execute_result",
          "data": {
            "text/html": [
              "<div>\n",
              "<style scoped>\n",
              "    .dataframe tbody tr th:only-of-type {\n",
              "        vertical-align: middle;\n",
              "    }\n",
              "\n",
              "    .dataframe tbody tr th {\n",
              "        vertical-align: top;\n",
              "    }\n",
              "\n",
              "    .dataframe thead th {\n",
              "        text-align: right;\n",
              "    }\n",
              "</style>\n",
              "<table border=\"1\" class=\"dataframe\">\n",
              "  <thead>\n",
              "    <tr style=\"text-align: right;\">\n",
              "      <th></th>\n",
              "      <th>nb_orders</th>\n",
              "      <th>last_order_id</th>\n",
              "      <th>sum_pos_in_cart</th>\n",
              "    </tr>\n",
              "    <tr>\n",
              "      <th>user_product</th>\n",
              "      <th></th>\n",
              "      <th></th>\n",
              "      <th></th>\n",
              "    </tr>\n",
              "  </thead>\n",
              "  <tbody>\n",
              "    <tr>\n",
              "      <th>8623906075</th>\n",
              "      <td>1</td>\n",
              "      <td>1520399</td>\n",
              "      <td>14</td>\n",
              "    </tr>\n",
              "    <tr>\n",
              "      <th>15429341329</th>\n",
              "      <td>1</td>\n",
              "      <td>2049062</td>\n",
              "      <td>3</td>\n",
              "    </tr>\n",
              "    <tr>\n",
              "      <th>15429323081</th>\n",
              "      <td>3</td>\n",
              "      <td>1489630</td>\n",
              "      <td>8</td>\n",
              "    </tr>\n",
              "    <tr>\n",
              "      <th>15429321527</th>\n",
              "      <td>3</td>\n",
              "      <td>2251505</td>\n",
              "      <td>14</td>\n",
              "    </tr>\n",
              "    <tr>\n",
              "      <th>15429335050</th>\n",
              "      <td>4</td>\n",
              "      <td>2251505</td>\n",
              "      <td>18</td>\n",
              "    </tr>\n",
              "    <tr>\n",
              "      <th>...</th>\n",
              "      <td>...</td>\n",
              "      <td>...</td>\n",
              "      <td>...</td>\n",
              "    </tr>\n",
              "    <tr>\n",
              "      <th>16999119311</th>\n",
              "      <td>1</td>\n",
              "      <td>51086</td>\n",
              "      <td>6</td>\n",
              "    </tr>\n",
              "    <tr>\n",
              "      <th>8998913176</th>\n",
              "      <td>1</td>\n",
              "      <td>2768756</td>\n",
              "      <td>3</td>\n",
              "    </tr>\n",
              "    <tr>\n",
              "      <th>8162545368</th>\n",
              "      <td>1</td>\n",
              "      <td>310464</td>\n",
              "      <td>13</td>\n",
              "    </tr>\n",
              "    <tr>\n",
              "      <th>8162535690</th>\n",
              "      <td>1</td>\n",
              "      <td>310464</td>\n",
              "      <td>14</td>\n",
              "    </tr>\n",
              "    <tr>\n",
              "      <th>8162533647</th>\n",
              "      <td>1</td>\n",
              "      <td>310464</td>\n",
              "      <td>16</td>\n",
              "    </tr>\n",
              "  </tbody>\n",
              "</table>\n",
              "<p>13307953 rows × 3 columns</p>\n",
              "</div>"
            ],
            "text/plain": [
              "              nb_orders  last_order_id  sum_pos_in_cart\n",
              "user_product                                           \n",
              "8623906075            1        1520399               14\n",
              "15429341329           1        2049062                3\n",
              "15429323081           3        1489630                8\n",
              "15429321527           3        2251505               14\n",
              "15429335050           4        2251505               18\n",
              "...                 ...            ...              ...\n",
              "16999119311           1          51086                6\n",
              "8998913176            1        2768756                3\n",
              "8162545368            1         310464               13\n",
              "8162535690            1         310464               14\n",
              "8162533647            1         310464               16\n",
              "\n",
              "[13307953 rows x 3 columns]"
            ]
          },
          "metadata": {
            "tags": []
          },
          "execution_count": 10
        }
      ]
    },
    {
      "cell_type": "code",
      "metadata": {
        "id": "CTCXo4fpnBKR"
      },
      "source": [
        "### train / test orders ###\n",
        "test_orders = orders[orders.eval_set == 'test']\n",
        "train_orders = orders[orders.eval_set == 'train']\n",
        "\n",
        "train.set_index(['order_id', 'product_id'], inplace=True, drop=False)"
      ],
      "execution_count": 11,
      "outputs": []
    },
    {
      "cell_type": "markdown",
      "metadata": {
        "id": "U-N_2Po9QJv0"
      },
      "source": [
        "##feature process function\n",
        "---\n",
        "使train,test的data有相同欄位方便training&fitting"
      ]
    },
    {
      "cell_type": "code",
      "metadata": {
        "id": "zndR6y2knGGa"
      },
      "source": [
        "### build list of candidate products to reorder, with features ###\n",
        "\n",
        "def features(selected_orders, labels_given=False):\n",
        "    order_list = []\n",
        "    product_list = []\n",
        "    labels = []\n",
        "\n",
        "    train_index = set(train.index)     \n",
        "\n",
        "    for row in selected_orders.itertuples():\n",
        "        user_id = row.user_id\n",
        "        order_id = row.order_id\n",
        "        user_prods = users['all_products'][user_id]\n",
        "        product_list += user_prods\n",
        "        order_list += [order_id] * len(user_prods)\n",
        "\n",
        "        if labels_given:\n",
        "            labels += [(order_id, prod) in train_index for prod in user_prods]\n",
        "    \n",
        "    df = pd.DataFrame({'order_id':order_list, 'product_id':product_list}, dtype=np.int32)\n",
        "    labels = np.array(labels, dtype=np.int8)\n",
        "    del order_list\n",
        "    del product_list\n",
        "    \n",
        "    df['user_id'] = df.order_id.map(orders.user_id)\n",
        "    df['user_total_orders'] = df.user_id.map(users.nb_orders)\n",
        "    df['user_total_items'] = df.user_id.map(users.total_items)\n",
        "    df['total_distinct_items'] = df.user_id.map(users.total_distinct_items)\n",
        "    df['user_average_days_between_orders'] = df.user_id.map(users.average_days_between_orders)\n",
        "    df['user_average_basket'] =  df.user_id.map(users.average_basket)\n",
        "    \n",
        "    df['order_hour_of_day'] = df.order_id.map(orders.order_hour_of_day)\n",
        "    df['days_since_prior_order'] = df.order_id.map(orders.days_since_prior_order)\n",
        "    df['days_since_ratio'] = df.days_since_prior_order / df.user_average_days_between_orders\n",
        "    \n",
        "    df['aisle_id'] = df.product_id.map(products.aisle_id)\n",
        "    df['department_id'] = df.product_id.map(products.department_id)\n",
        "    df['product_orders'] = df.product_id.map(products.orders).astype(np.int32)\n",
        "    df['product_reorders'] = df.product_id.map(products.reorders)\n",
        "    df['product_reorder_rate'] = df.product_id.map(products.reorder_rate)\n",
        "    df['Order2Reorder_rate'] = df.product_id.map(products.Order2Reorder_rate)\n",
        "\n",
        "    df['z'] = df.user_id * 100000 + df.product_id\n",
        "    df.drop(['user_id'], axis=1, inplace=True)\n",
        "    df['UP_orders'] = df.z.map(userXproduct.nb_orders)\n",
        "    df['UP_orders_ratio'] = (df.UP_orders / df.user_total_orders).astype(np.float32)\n",
        "    df['UP_last_order_id'] = df.z.map(userXproduct.last_order_id)\n",
        "    df['UP_average_pos_in_cart'] = (df.z.map(userXproduct.sum_pos_in_cart) / df.UP_orders).astype(np.float32)\n",
        "    df['UP_reorder_rate'] = (df.UP_orders / df.user_total_orders).astype(np.float32)\n",
        "    df['UP_orders_since_last'] = df.user_total_orders - df.UP_last_order_id.map(orders.order_number)\n",
        "    df['UP_delta_hour_vs_last'] = abs(df.order_hour_of_day - df.UP_last_order_id.map(orders.order_hour_of_day)).map(lambda x: min(x, 24-x)).astype(np.int8)\n",
        "\n",
        "    df.drop(['UP_last_order_id', 'z'], axis=1, inplace=True)\n",
        "    return (df, labels)"
      ],
      "execution_count": 12,
      "outputs": []
    },
    {
      "cell_type": "markdown",
      "metadata": {
        "id": "8KC_kX6-jY9W"
      },
      "source": [
        "##train data建立\n"
      ]
    },
    {
      "cell_type": "code",
      "metadata": {
        "colab": {
          "base_uri": "https://localhost:8080/"
        },
        "id": "dkrXxKwinQ91",
        "outputId": "dc5b0055-c969-4497-cbc2-9f5371d9eaa8"
      },
      "source": [
        "df_train, labels = features(train_orders, labels_given=True)\n",
        "\n",
        "f_to_use = ['user_total_orders', 'user_total_items', 'total_distinct_items',\n",
        "       'user_average_days_between_orders', 'user_average_basket',\n",
        "       'order_hour_of_day', 'days_since_prior_order', 'days_since_ratio',\n",
        "       'aisle_id', 'department_id', 'product_orders', 'product_reorders',\n",
        "       'product_reorder_rate','Order2Reorder_rate',\n",
        "       'UP_orders', 'UP_orders_ratio',\n",
        "       'UP_average_pos_in_cart', 'UP_reorder_rate', 'UP_orders_since_last',\n",
        "       'UP_delta_hour_vs_last'\n",
        "       ] # 'dow', 'UP_same_dow_as_last_order'\n",
        "\n",
        "\n",
        "print('formating for lgb')\n",
        "d_train = lgb.Dataset(df_train[f_to_use],\n",
        "                      label=labels,\n",
        "                      categorical_feature=['aisle_id', 'department_id'])  # , 'order_hour_of_day', 'dow'"
      ],
      "execution_count": 13,
      "outputs": [
        {
          "output_type": "stream",
          "text": [
            "formating for lgb\n"
          ],
          "name": "stdout"
        }
      ]
    },
    {
      "cell_type": "markdown",
      "metadata": {
        "id": "dan8Etdljk6o"
      },
      "source": [
        "##Lightgbm模型訓練"
      ]
    },
    {
      "cell_type": "code",
      "metadata": {
        "id": "wGyA43Uvnbfq"
      },
      "source": [
        "params = {\n",
        "    'task': 'train',\n",
        "    'boosting_type': 'gbdt',\n",
        "    'objective': 'binary',\n",
        "    'metric': {'binary_logloss'},\n",
        "    'num_leaves': 96,\n",
        "    'max_depth': 10,\n",
        "    'feature_fraction': 0.9,\n",
        "    'bagging_fraction': 0.95,\n",
        "    'bagging_freq': 5\n",
        "}\n",
        "ROUNDS = 100\n",
        "\n",
        "bst = lgb.train(params, d_train, ROUNDS)\n",
        "# del d_train\n"
      ],
      "execution_count": 14,
      "outputs": []
    },
    {
      "cell_type": "markdown",
      "metadata": {
        "id": "As4JNHCgjrjf"
      },
      "source": [
        "##模型Predict\n",
        "---\n",
        "預測該商品會不會再次購買  \n",
        "將機率大於閾值(0.22)的加入  \n",
        "反之不加入"
      ]
    },
    {
      "cell_type": "code",
      "metadata": {
        "id": "3vsJXjtBnfzl"
      },
      "source": [
        "### build candidates list for test ###\n",
        "\n",
        "df_test, _ = features(test_orders)\n",
        "\n",
        "preds = bst.predict(df_test[f_to_use])\n",
        "\n",
        "df_test['pred'] = preds\n"
      ],
      "execution_count": 15,
      "outputs": []
    },
    {
      "cell_type": "code",
      "metadata": {
        "id": "r_wjKyynjraw"
      },
      "source": [
        "TRESHOLD = 0.22  # guess, should be tuned with crossval on a subset of train data\n",
        "\n",
        "d = dict()\n",
        "for row in df_test.itertuples():\n",
        "    if row.pred > TRESHOLD:\n",
        "        try:\n",
        "            d[row.order_id] += ' ' + str(row.product_id)\n",
        "        except:\n",
        "            d[row.order_id] = str(row.product_id)\n"
      ],
      "execution_count": 16,
      "outputs": []
    },
    {
      "cell_type": "markdown",
      "metadata": {
        "id": "-kyVe1lCRC3V"
      },
      "source": [
        "**將尚未填入的欄位用random填滿**  \n",
        "隨機1~7項產品(平均每次order約4項)  \n",
        "填入的產品為前50熱賣的商品  \n"
      ]
    },
    {
      "cell_type": "code",
      "metadata": {
        "id": "XYohdGO4xQFa"
      },
      "source": [
        "import time \n",
        "import random\n",
        "i = 0\n",
        "thing = ''\n",
        "for order in test_orders.order_id:\n",
        "    thing = ''\n",
        "    if order not in d:\n",
        "      num = int(random.random()*397%8+1)\n",
        "      for i in range(num):\n",
        "        thing += ' ' + str(most_sell[int(random.expovariate(1/10)%49)])\n",
        "      d[order] = thing\n"
      ],
      "execution_count": 17,
      "outputs": []
    },
    {
      "cell_type": "code",
      "metadata": {
        "id": "BMkjy_bUxMvw"
      },
      "source": [
        "sub = pd.DataFrame.from_dict(d, orient='index')\n",
        "\n",
        "sub.reset_index(inplace=True)\n",
        "sub.columns = ['order_id', 'products']\n",
        "sub.to_csv('submission.csv', index=False)"
      ],
      "execution_count": 18,
      "outputs": []
    },
    {
      "cell_type": "code",
      "metadata": {
        "colab": {
          "base_uri": "https://localhost:8080/",
          "height": 418
        },
        "id": "HO8PnFXNdTQq",
        "outputId": "da9389bb-87c2-40f8-c407-792b751d025a"
      },
      "source": [
        "sub"
      ],
      "execution_count": 19,
      "outputs": [
        {
          "output_type": "execute_result",
          "data": {
            "text/html": [
              "<div>\n",
              "<style scoped>\n",
              "    .dataframe tbody tr th:only-of-type {\n",
              "        vertical-align: middle;\n",
              "    }\n",
              "\n",
              "    .dataframe tbody tr th {\n",
              "        vertical-align: top;\n",
              "    }\n",
              "\n",
              "    .dataframe thead th {\n",
              "        text-align: right;\n",
              "    }\n",
              "</style>\n",
              "<table border=\"1\" class=\"dataframe\">\n",
              "  <thead>\n",
              "    <tr style=\"text-align: right;\">\n",
              "      <th></th>\n",
              "      <th>order_id</th>\n",
              "      <th>products</th>\n",
              "    </tr>\n",
              "  </thead>\n",
              "  <tbody>\n",
              "    <tr>\n",
              "      <th>0</th>\n",
              "      <td>2774568</td>\n",
              "      <td>17668 21903 39190 47766 18599 43961 23650 24810</td>\n",
              "    </tr>\n",
              "    <tr>\n",
              "      <th>1</th>\n",
              "      <td>1528013</td>\n",
              "      <td>21903 38293</td>\n",
              "    </tr>\n",
              "    <tr>\n",
              "      <th>2</th>\n",
              "      <td>1376945</td>\n",
              "      <td>33572 17706 28465 27959 44632 24799 34658 1494...</td>\n",
              "    </tr>\n",
              "    <tr>\n",
              "      <th>3</th>\n",
              "      <td>1356845</td>\n",
              "      <td>11520 14992 7076 28134 10863 13176</td>\n",
              "    </tr>\n",
              "    <tr>\n",
              "      <th>4</th>\n",
              "      <td>2161313</td>\n",
              "      <td>11266 196 10441 12427 37710 48142 14715 27839</td>\n",
              "    </tr>\n",
              "    <tr>\n",
              "      <th>...</th>\n",
              "      <td>...</td>\n",
              "      <td>...</td>\n",
              "    </tr>\n",
              "    <tr>\n",
              "      <th>74995</th>\n",
              "      <td>474081</td>\n",
              "      <td>13176 28204</td>\n",
              "    </tr>\n",
              "    <tr>\n",
              "      <th>74996</th>\n",
              "      <td>2363962</td>\n",
              "      <td>27966</td>\n",
              "    </tr>\n",
              "    <tr>\n",
              "      <th>74997</th>\n",
              "      <td>2498703</td>\n",
              "      <td>24852 16797 47766</td>\n",
              "    </tr>\n",
              "    <tr>\n",
              "      <th>74998</th>\n",
              "      <td>783264</td>\n",
              "      <td>26209 49683 49235 49683 21137 16797</td>\n",
              "    </tr>\n",
              "    <tr>\n",
              "      <th>74999</th>\n",
              "      <td>2994962</td>\n",
              "      <td>30489 26604 24852 45007 22935 45007 21137</td>\n",
              "    </tr>\n",
              "  </tbody>\n",
              "</table>\n",
              "<p>75000 rows × 2 columns</p>\n",
              "</div>"
            ],
            "text/plain": [
              "       order_id                                           products\n",
              "0       2774568    17668 21903 39190 47766 18599 43961 23650 24810\n",
              "1       1528013                                        21903 38293\n",
              "2       1376945  33572 17706 28465 27959 44632 24799 34658 1494...\n",
              "3       1356845                 11520 14992 7076 28134 10863 13176\n",
              "4       2161313      11266 196 10441 12427 37710 48142 14715 27839\n",
              "...         ...                                                ...\n",
              "74995    474081                                        13176 28204\n",
              "74996   2363962                                              27966\n",
              "74997   2498703                                  24852 16797 47766\n",
              "74998    783264                26209 49683 49235 49683 21137 16797\n",
              "74999   2994962          30489 26604 24852 45007 22935 45007 21137\n",
              "\n",
              "[75000 rows x 2 columns]"
            ]
          },
          "metadata": {
            "tags": []
          },
          "execution_count": 19
        }
      ]
    }
  ]
}