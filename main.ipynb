{
  "nbformat": 4,
  "nbformat_minor": 0,
  "metadata": {
    "colab": {
      "name": "main.ipynb",
      "provenance": [],
      "collapsed_sections": [],
      "mount_file_id": "1-afCFGi7DdWKnZ11X3l74VccIeEckG7F",
      "authorship_tag": "ABX9TyPqouPIhQ/b1zq+zxiKIBjq",
      "include_colab_link": true
    },
    "kernelspec": {
      "name": "python3",
      "display_name": "Python 3"
    },
    "language_info": {
      "name": "python"
    }
  },
  "cells": [
    {
      "cell_type": "markdown",
      "metadata": {
        "id": "view-in-github",
        "colab_type": "text"
      },
      "source": [
        "<a href=\"https://colab.research.google.com/github/Squrro/DSAI-HW4/blob/main/main.ipynb\" target=\"_parent\"><img src=\"https://colab.research.google.com/assets/colab-badge.svg\" alt=\"Open In Colab\"/></a>"
      ]
    },
    {
      "cell_type": "code",
      "metadata": {
        "id": "jci8B-Jwmk1x"
      },
      "source": [
        "# Author : Paul-Antoine Nguyen\n",
        "\n",
        "# This script considers all the products a user has ordered\n",
        "#\n",
        "# We train a model computing the probability of reorder on the \"train\" data\n",
        "#\n",
        "# For the submission, we keep the orders that have a probability of\n",
        "# reorder higher than a threshold\n",
        "\n",
        "\n",
        "import numpy as np\n",
        "import pandas as pd\n",
        "import lightgbm as lgb\n",
        "import warnings\n",
        "warnings.filterwarnings(\"ignore\")\n",
        "IDIR = 'input/'\n"
      ],
      "execution_count": null,
      "outputs": []
    },
    {
      "cell_type": "code",
      "metadata": {
        "colab": {
          "base_uri": "https://localhost:8080/"
        },
        "id": "PR7zwYYypnhA",
        "outputId": "277f8812-939f-4f3c-cde0-46a1f36ede03"
      },
      "source": [
        "print('loading prior')\n",
        "priors = pd.read_csv(IDIR + 'order_products__prior.csv', dtype={\n",
        "            'order_id': np.int32,\n",
        "            'product_id': np.uint16,\n",
        "            'add_to_cart_order': np.int16,\n",
        "            'reordered': np.int8})"
      ],
      "execution_count": null,
      "outputs": [
        {
          "output_type": "stream",
          "text": [
            "loading prior\n"
          ],
          "name": "stdout"
        }
      ]
    },
    {
      "cell_type": "code",
      "metadata": {
        "colab": {
          "base_uri": "https://localhost:8080/"
        },
        "id": "mGPyL9JvppYR",
        "outputId": "e2a8f752-b79b-4b0b-bc6a-6a09be27c90c"
      },
      "source": [
        "print('loading train')\n",
        "train = pd.read_csv(IDIR + 'order_products__train.csv', dtype={\n",
        "            'order_id': np.int32,\n",
        "            'product_id': np.uint16,\n",
        "            'add_to_cart_order': np.int16,\n",
        "            'reordered': np.int8})"
      ],
      "execution_count": null,
      "outputs": [
        {
          "output_type": "stream",
          "text": [
            "loading train\n"
          ],
          "name": "stdout"
        }
      ]
    },
    {
      "cell_type": "code",
      "metadata": {
        "colab": {
          "base_uri": "https://localhost:8080/"
        },
        "id": "0FNfj1pmpsBF",
        "outputId": "ba9bffd2-ac1c-4cef-ad47-20bccc241890"
      },
      "source": [
        "print('loading orders')\n",
        "orders = pd.read_csv(IDIR + 'orders.csv', dtype={\n",
        "        'order_id': np.int32,\n",
        "        'user_id': np.int32,\n",
        "        'eval_set': 'category',\n",
        "        'order_number': np.int16,\n",
        "        'order_dow': np.int8,\n",
        "        'order_hour_of_day': np.int8,\n",
        "        'days_since_prior_order': np.float32})"
      ],
      "execution_count": null,
      "outputs": [
        {
          "output_type": "stream",
          "text": [
            "loading orders\n"
          ],
          "name": "stdout"
        }
      ]
    },
    {
      "cell_type": "code",
      "metadata": {
        "colab": {
          "base_uri": "https://localhost:8080/"
        },
        "id": "DPJiOOF2puZC",
        "outputId": "e5172583-2dc7-4b4f-d428-6a366e0f9fcc"
      },
      "source": [
        "print('loading products')\n",
        "products = pd.read_csv(IDIR + 'products.csv', dtype={\n",
        "        'product_id': np.uint16,\n",
        "        'order_id': np.int32,\n",
        "        'aisle_id': np.uint8,\n",
        "        'department_id': np.uint8},\n",
        "        usecols=['product_id', 'aisle_id', 'department_id'])"
      ],
      "execution_count": null,
      "outputs": [
        {
          "output_type": "stream",
          "text": [
            "loading products\n"
          ],
          "name": "stdout"
        }
      ]
    },
    {
      "cell_type": "code",
      "metadata": {
        "colab": {
          "base_uri": "https://localhost:8080/"
        },
        "id": "tYmeT7DuooKU",
        "outputId": "993a8c97-fa1f-4108-a58c-a8d8449101ee"
      },
      "source": [
        "print('priors {}: {}'.format(priors.shape, ', '.join(priors.columns)))\n",
        "print('orders {}: {}'.format(orders.shape, ', '.join(orders.columns)))\n",
        "print('train {}: {}'.format(train.shape, ', '.join(train.columns)))"
      ],
      "execution_count": null,
      "outputs": [
        {
          "output_type": "stream",
          "text": [
            "priors (32434489, 4): order_id, product_id, add_to_cart_order, reordered\n",
            "orders (3421083, 7): order_id, user_id, eval_set, order_number, order_dow, order_hour_of_day, days_since_prior_order\n",
            "train (1384617, 4): order_id, product_id, add_to_cart_order, reordered\n"
          ],
          "name": "stdout"
        }
      ]
    },
    {
      "cell_type": "code",
      "metadata": {
        "colab": {
          "base_uri": "https://localhost:8080/"
        },
        "id": "WOUMZ-I3mtS3",
        "outputId": "d60de0b8-1a9c-472e-a709-54a645e94a51"
      },
      "source": [
        "###\n",
        "\n",
        "print('computing product f')\n",
        "prods = pd.DataFrame()\n",
        "prods['orders'] = priors.groupby(priors.product_id).size().astype(np.int32)\n",
        "prods['reorders'] = priors['reordered'].groupby(priors.product_id).sum().astype(np.float32)\n",
        "prods['reorder_rate'] = (prods.reorders / prods.orders).astype(np.float32)\n",
        "products = products.join(prods, on='product_id')\n",
        "products.set_index('product_id', drop=False, inplace=True)\n",
        "prods.info()\n",
        "# del prods\n"
      ],
      "execution_count": null,
      "outputs": [
        {
          "output_type": "stream",
          "text": [
            "computing product f\n",
            "<class 'pandas.core.frame.DataFrame'>\n",
            "UInt64Index: 49677 entries, 1 to 49688\n",
            "Data columns (total 3 columns):\n",
            " #   Column        Non-Null Count  Dtype  \n",
            "---  ------        --------------  -----  \n",
            " 0   orders        49677 non-null  int32  \n",
            " 1   reorders      49677 non-null  float32\n",
            " 2   reorder_rate  49677 non-null  float32\n",
            "dtypes: float32(2), int32(1)\n",
            "memory usage: 970.3 KB\n"
          ],
          "name": "stdout"
        }
      ]
    },
    {
      "cell_type": "code",
      "metadata": {
        "colab": {
          "base_uri": "https://localhost:8080/"
        },
        "id": "ktclG708mwBR",
        "outputId": "4aa40097-d2ef-453a-a44d-3722d94a8dfc"
      },
      "source": [
        "\n",
        "print('add order info to priors')\n",
        "orders.set_index('order_id', inplace=True, drop=False)\n",
        "priors = priors.join(orders, on='order_id', rsuffix='_')\n",
        "priors.drop('order_id_', inplace=True, axis=1)\n"
      ],
      "execution_count": null,
      "outputs": [
        {
          "output_type": "stream",
          "text": [
            "add order info to priors\n"
          ],
          "name": "stdout"
        }
      ]
    },
    {
      "cell_type": "code",
      "metadata": {
        "colab": {
          "base_uri": "https://localhost:8080/"
        },
        "id": "NTVJpJs8m1mK",
        "outputId": "7690763a-6e3d-4ef1-c0cb-d4c321e510aa"
      },
      "source": [
        "### user features\n",
        "\n",
        "\n",
        "print('computing user f')\n",
        "usr = pd.DataFrame()\n",
        "usr['average_days_between_orders'] = orders.groupby('user_id')['days_since_prior_order'].mean().astype(np.float32)\n",
        "usr['nb_orders'] = orders.groupby('user_id').size().astype(np.int16)\n",
        "\n",
        "users = pd.DataFrame()\n",
        "users['total_items'] = priors.groupby('user_id').size().astype(np.int16)\n",
        "users['all_products'] = priors.groupby('user_id')['product_id'].apply(set)\n",
        "users['total_distinct_items'] = (users.all_products.map(len)).astype(np.int16)\n",
        "\n",
        "users = users.join(usr)\n",
        "usr.info()\n",
        "# del usr\n",
        "users['average_basket'] = (users.total_items / users.nb_orders).astype(np.float32)\n",
        "print('user f', users.shape)\n"
      ],
      "execution_count": null,
      "outputs": [
        {
          "output_type": "stream",
          "text": [
            "computing user f\n",
            "<class 'pandas.core.frame.DataFrame'>\n",
            "Int64Index: 206209 entries, 1 to 206209\n",
            "Data columns (total 2 columns):\n",
            " #   Column                       Non-Null Count   Dtype  \n",
            "---  ------                       --------------   -----  \n",
            " 0   average_days_between_orders  206209 non-null  float32\n",
            " 1   nb_orders                    206209 non-null  int16  \n",
            "dtypes: float32(1), int16(1)\n",
            "memory usage: 12.8 MB\n",
            "user f (206209, 6)\n"
          ],
          "name": "stdout"
        }
      ]
    },
    {
      "cell_type": "code",
      "metadata": {
        "colab": {
          "base_uri": "https://localhost:8080/"
        },
        "id": "H2_Qo_cmm98v",
        "outputId": "4981e679-6827-49c6-b893-33f9eefe21ff"
      },
      "source": [
        "# fast\n",
        "userXproduct = priors.copy()\n",
        "userXproduct['user_product'] = userXproduct.product_id + userXproduct.user_id * 100000\n",
        "userXproduct = userXproduct.sort_values('order_number')\n",
        "userXproduct = userXproduct \\\n",
        "    .groupby('user_product', sort=False) \\\n",
        "    .agg({'order_id': ['size', 'last'], 'add_to_cart_order': 'sum'})\n",
        "userXproduct.columns = ['nb_orders', 'last_order_id', 'sum_pos_in_cart']\n",
        "userXproduct.astype(\n",
        "    {'nb_orders': np.int16, 'last_order_id': np.int32, 'sum_pos_in_cart': np.int16}, \n",
        "    # inplace=True\n",
        "    )\n",
        "userXproduct.info()\n",
        "# del priors"
      ],
      "execution_count": null,
      "outputs": [
        {
          "output_type": "stream",
          "text": [
            "<class 'pandas.core.frame.DataFrame'>\n",
            "Int64Index: 13307953 entries, 8623906075 to 8162533647\n",
            "Data columns (total 3 columns):\n",
            " #   Column           Dtype\n",
            "---  ------           -----\n",
            " 0   nb_orders        int64\n",
            " 1   last_order_id    int32\n",
            " 2   sum_pos_in_cart  int16\n",
            "dtypes: int16(1), int32(1), int64(1)\n",
            "memory usage: 279.2 MB\n"
          ],
          "name": "stdout"
        }
      ]
    },
    {
      "cell_type": "code",
      "metadata": {
        "colab": {
          "base_uri": "https://localhost:8080/"
        },
        "id": "CTCXo4fpnBKR",
        "outputId": "1cb79681-9689-46e9-ee5c-c00509e023a3"
      },
      "source": [
        "### train / test orders ###\n",
        "print('split orders : train, test')\n",
        "test_orders = orders[orders.eval_set == 'test']\n",
        "train_orders = orders[orders.eval_set == 'train']\n",
        "\n",
        "train.set_index(['order_id', 'product_id'], inplace=True, drop=False)"
      ],
      "execution_count": null,
      "outputs": [
        {
          "output_type": "stream",
          "text": [
            "split orders : train, test\n"
          ],
          "name": "stdout"
        }
      ]
    },
    {
      "cell_type": "code",
      "metadata": {
        "id": "zndR6y2knGGa"
      },
      "source": [
        "### build list of candidate products to reorder, with features ###\n",
        "\n",
        "def features(selected_orders, labels_given=False):\n",
        "    print('build candidate list')\n",
        "    order_list = []\n",
        "    product_list = []\n",
        "    labels = []\n",
        "    i=0\n",
        "\n",
        "    train_index = set(train.index)     \n",
        "\n",
        "    for row in selected_orders.itertuples():\n",
        "        i+=1\n",
        "        if i%10000 == 0: print('order row',i)\n",
        "        user_id = row.user_id\n",
        "        order_id = row.order_id\n",
        "        user_prods = users['all_products'][user_id]\n",
        "        product_list += user_prods\n",
        "        order_list += [order_id] * len(user_prods)\n",
        "\n",
        "        if labels_given:\n",
        "            labels += [(order_id, prod) in train_index for prod in user_prods]\n",
        "    \n",
        "    df = pd.DataFrame({'order_id':order_list, 'product_id':product_list}, dtype=np.int32)\n",
        "    labels = np.array(labels, dtype=np.int8)\n",
        "    del order_list\n",
        "    del product_list\n",
        "    \n",
        "    print('user related features')\n",
        "    df['user_id'] = df.order_id.map(orders.user_id)\n",
        "    df['user_total_orders'] = df.user_id.map(users.nb_orders)\n",
        "    df['user_total_items'] = df.user_id.map(users.total_items)\n",
        "    df['total_distinct_items'] = df.user_id.map(users.total_distinct_items)\n",
        "    df['user_average_days_between_orders'] = df.user_id.map(users.average_days_between_orders)\n",
        "    df['user_average_basket'] =  df.user_id.map(users.average_basket)\n",
        "    \n",
        "    print('order related features')\n",
        "    # df['dow'] = df.order_id.map(orders.order_dow)\n",
        "    df['order_hour_of_day'] = df.order_id.map(orders.order_hour_of_day)\n",
        "    df['days_since_prior_order'] = df.order_id.map(orders.days_since_prior_order)\n",
        "    df['days_since_ratio'] = df.days_since_prior_order / df.user_average_days_between_orders\n",
        "    \n",
        "    print('product related features')\n",
        "    df['aisle_id'] = df.product_id.map(products.aisle_id)\n",
        "    df['department_id'] = df.product_id.map(products.department_id)\n",
        "    df['product_orders'] = df.product_id.map(products.orders).astype(np.int32)\n",
        "    df['product_reorders'] = df.product_id.map(products.reorders)\n",
        "    df['product_reorder_rate'] = df.product_id.map(products.reorder_rate)\n",
        "\n",
        "    print('user_X_product related features')\n",
        "    df['z'] = df.user_id * 100000 + df.product_id\n",
        "    df.drop(['user_id'], axis=1, inplace=True)\n",
        "    df['UP_orders'] = df.z.map(userXproduct.nb_orders)\n",
        "    df['UP_orders_ratio'] = (df.UP_orders / df.user_total_orders).astype(np.float32)\n",
        "    df['UP_last_order_id'] = df.z.map(userXproduct.last_order_id)\n",
        "    df['UP_average_pos_in_cart'] = (df.z.map(userXproduct.sum_pos_in_cart) / df.UP_orders).astype(np.float32)\n",
        "    df['UP_reorder_rate'] = (df.UP_orders / df.user_total_orders).astype(np.float32)\n",
        "    df['UP_orders_since_last'] = df.user_total_orders - df.UP_last_order_id.map(orders.order_number)\n",
        "    df['UP_delta_hour_vs_last'] = abs(df.order_hour_of_day - df.UP_last_order_id.map(orders.order_hour_of_day)).map(lambda x: min(x, 24-x)).astype(np.int8)\n",
        "    #df['UP_same_dow_as_last_order'] = df.UP_last_order_id.map(orders.order_dow) == \\\n",
        "    #                                              df.order_id.map(orders.order_dow)\n",
        "\n",
        "    df.drop(['UP_last_order_id', 'z'], axis=1, inplace=True)\n",
        "    df.to_csv('pre/pre_data.csv', index=False)\n",
        "    print(df.dtypes)\n",
        "    print(df.memory_usage())\n",
        "    return (df, labels)"
      ],
      "execution_count": null,
      "outputs": []
    },
    {
      "cell_type": "code",
      "metadata": {
        "colab": {
          "base_uri": "https://localhost:8080/"
        },
        "id": "dkrXxKwinQ91",
        "outputId": "96275c3c-fd2e-4f82-d61f-017510bb6a51"
      },
      "source": [
        "df_train, labels = features(train_orders, labels_given=True)\n",
        "\n",
        "f_to_use = ['user_total_orders', 'user_total_items', 'total_distinct_items',\n",
        "       'user_average_days_between_orders', 'user_average_basket',\n",
        "       'order_hour_of_day', 'days_since_prior_order', 'days_since_ratio',\n",
        "       'aisle_id', 'department_id', 'product_orders', 'product_reorders',\n",
        "       'product_reorder_rate', 'UP_orders', 'UP_orders_ratio',\n",
        "       'UP_average_pos_in_cart', 'UP_reorder_rate', 'UP_orders_since_last',\n",
        "       'UP_delta_hour_vs_last'] # 'dow', 'UP_same_dow_as_last_order'\n",
        "\n",
        "\n",
        "print('formating for lgb')\n",
        "d_train = lgb.Dataset(df_train[f_to_use],\n",
        "                      label=labels,\n",
        "                      categorical_feature=['aisle_id', 'department_id'])  # , 'order_hour_of_day', 'dow'\n",
        "# del df_train\n",
        "# df_train.info()"
      ],
      "execution_count": null,
      "outputs": [
        {
          "output_type": "stream",
          "text": [
            "build candidate list\n",
            "order row 10000\n",
            "order row 20000\n",
            "order row 30000\n",
            "order row 40000\n",
            "order row 50000\n",
            "order row 60000\n",
            "order row 70000\n",
            "order row 80000\n",
            "order row 90000\n",
            "order row 100000\n",
            "order row 110000\n",
            "order row 120000\n",
            "order row 130000\n",
            "user related features\n",
            "order related features\n",
            "product related features\n",
            "user_X_product related features\n",
            "order_id                              int32\n",
            "product_id                            int32\n",
            "user_total_orders                     int16\n",
            "user_total_items                      int16\n",
            "total_distinct_items                  int16\n",
            "user_average_days_between_orders    float32\n",
            "user_average_basket                 float32\n",
            "order_hour_of_day                      int8\n",
            "days_since_prior_order              float32\n",
            "days_since_ratio                    float32\n",
            "aisle_id                              uint8\n",
            "department_id                         uint8\n",
            "product_orders                        int32\n",
            "product_reorders                    float32\n",
            "product_reorder_rate                float32\n",
            "UP_orders                             int64\n",
            "UP_orders_ratio                     float32\n",
            "UP_average_pos_in_cart              float32\n",
            "UP_reorder_rate                     float32\n",
            "UP_orders_since_last                  int16\n",
            "UP_delta_hour_vs_last                  int8\n",
            "dtype: object\n",
            "Index                                    128\n",
            "order_id                            33898644\n",
            "product_id                          33898644\n",
            "user_total_orders                   16949322\n",
            "user_total_items                    16949322\n",
            "total_distinct_items                16949322\n",
            "user_average_days_between_orders    33898644\n",
            "user_average_basket                 33898644\n",
            "order_hour_of_day                    8474661\n",
            "days_since_prior_order              33898644\n",
            "days_since_ratio                    33898644\n",
            "aisle_id                             8474661\n",
            "department_id                        8474661\n",
            "product_orders                      33898644\n",
            "product_reorders                    33898644\n",
            "product_reorder_rate                33898644\n",
            "UP_orders                           67797288\n",
            "UP_orders_ratio                     33898644\n",
            "UP_average_pos_in_cart              33898644\n",
            "UP_reorder_rate                     33898644\n",
            "UP_orders_since_last                16949322\n",
            "UP_delta_hour_vs_last                8474661\n",
            "dtype: int64\n",
            "formating for lgb\n",
            "<class 'pandas.core.frame.DataFrame'>\n",
            "RangeIndex: 8474661 entries, 0 to 8474660\n",
            "Data columns (total 21 columns):\n",
            " #   Column                            Dtype  \n",
            "---  ------                            -----  \n",
            " 0   order_id                          int32  \n",
            " 1   product_id                        int32  \n",
            " 2   user_total_orders                 int16  \n",
            " 3   user_total_items                  int16  \n",
            " 4   total_distinct_items              int16  \n",
            " 5   user_average_days_between_orders  float32\n",
            " 6   user_average_basket               float32\n",
            " 7   order_hour_of_day                 int8   \n",
            " 8   days_since_prior_order            float32\n",
            " 9   days_since_ratio                  float32\n",
            " 10  aisle_id                          uint8  \n",
            " 11  department_id                     uint8  \n",
            " 12  product_orders                    int32  \n",
            " 13  product_reorders                  float32\n",
            " 14  product_reorder_rate              float32\n",
            " 15  UP_orders                         int64  \n",
            " 16  UP_orders_ratio                   float32\n",
            " 17  UP_average_pos_in_cart            float32\n",
            " 18  UP_reorder_rate                   float32\n",
            " 19  UP_orders_since_last              int16  \n",
            " 20  UP_delta_hour_vs_last             int8   \n",
            "dtypes: float32(9), int16(4), int32(3), int64(1), int8(2), uint8(2)\n",
            "memory usage: 549.6 MB\n"
          ],
          "name": "stdout"
        }
      ]
    },
    {
      "cell_type": "code",
      "metadata": {
        "colab": {
          "base_uri": "https://localhost:8080/"
        },
        "id": "wGyA43Uvnbfq",
        "outputId": "0ef6ff06-307a-4526-9047-06372bd97fc1"
      },
      "source": [
        "params = {\n",
        "    'task': 'train',\n",
        "    'boosting_type': 'gbdt',\n",
        "    'objective': 'binary',\n",
        "    'metric': {'binary_logloss'},\n",
        "    'num_leaves': 96,\n",
        "    'max_depth': 10,\n",
        "    'feature_fraction': 0.9,\n",
        "    'bagging_fraction': 0.95,\n",
        "    'bagging_freq': 5\n",
        "}\n",
        "ROUNDS = 100\n",
        "\n",
        "print('light GBM train :-)')\n",
        "bst = lgb.train(params, d_train, ROUNDS)\n",
        "# lgb.plot_importance(bst, figsize=(9,20))\n",
        "# del d_train\n"
      ],
      "execution_count": null,
      "outputs": [
        {
          "output_type": "stream",
          "text": [
            "light GBM train :-)\n"
          ],
          "name": "stdout"
        }
      ]
    },
    {
      "cell_type": "code",
      "metadata": {
        "colab": {
          "base_uri": "https://localhost:8080/"
        },
        "id": "3vsJXjtBnfzl",
        "outputId": "e26094fa-573d-4e91-ac2e-b41eb3f178ae"
      },
      "source": [
        "### build candidates list for test ###\n",
        "\n",
        "df_test, _ = features(test_orders)\n",
        "\n",
        "print('light GBM predict')\n",
        "preds = bst.predict(df_test[f_to_use])\n",
        "\n",
        "df_test['pred'] = preds\n"
      ],
      "execution_count": null,
      "outputs": [
        {
          "output_type": "stream",
          "text": [
            "build candidate list\n",
            "order row 10000\n",
            "order row 20000\n",
            "order row 30000\n",
            "order row 40000\n",
            "order row 50000\n",
            "order row 60000\n",
            "order row 70000\n",
            "user related features\n",
            "order related features\n",
            "product related features\n",
            "user_X_product related features\n",
            "order_id                              int32\n",
            "product_id                            int32\n",
            "user_total_orders                     int16\n",
            "user_total_items                      int16\n",
            "total_distinct_items                  int16\n",
            "user_average_days_between_orders    float32\n",
            "user_average_basket                 float32\n",
            "order_hour_of_day                      int8\n",
            "days_since_prior_order              float32\n",
            "days_since_ratio                    float32\n",
            "aisle_id                              uint8\n",
            "department_id                         uint8\n",
            "product_orders                        int32\n",
            "product_reorders                    float32\n",
            "product_reorder_rate                float32\n",
            "UP_orders                             int64\n",
            "UP_orders_ratio                     float32\n",
            "UP_average_pos_in_cart              float32\n",
            "UP_reorder_rate                     float32\n",
            "UP_orders_since_last                  int16\n",
            "UP_delta_hour_vs_last                  int8\n",
            "dtype: object\n",
            "Index                                    128\n",
            "order_id                            19333168\n",
            "product_id                          19333168\n",
            "user_total_orders                    9666584\n",
            "user_total_items                     9666584\n",
            "total_distinct_items                 9666584\n",
            "user_average_days_between_orders    19333168\n",
            "user_average_basket                 19333168\n",
            "order_hour_of_day                    4833292\n",
            "days_since_prior_order              19333168\n",
            "days_since_ratio                    19333168\n",
            "aisle_id                             4833292\n",
            "department_id                        4833292\n",
            "product_orders                      19333168\n",
            "product_reorders                    19333168\n",
            "product_reorder_rate                19333168\n",
            "UP_orders                           38666336\n",
            "UP_orders_ratio                     19333168\n",
            "UP_average_pos_in_cart              19333168\n",
            "UP_reorder_rate                     19333168\n",
            "UP_orders_since_last                 9666584\n",
            "UP_delta_hour_vs_last                4833292\n",
            "dtype: int64\n",
            "light GBM predict\n"
          ],
          "name": "stdout"
        }
      ]
    },
    {
      "cell_type": "code",
      "metadata": {
        "id": "r_wjKyynjraw"
      },
      "source": [
        "TRESHOLD = 0.22  # guess, should be tuned with crossval on a subset of train data\n",
        "\n",
        "d = dict()\n",
        "for row in df_test.itertuples():\n",
        "    if row.pred > TRESHOLD:\n",
        "        try:\n",
        "            d[row.order_id] += ' ' + str(row.product_id)\n",
        "        except:\n",
        "            d[row.order_id] = str(row.product_id)\n",
        "\n",
        "for order in test_orders.order_id:\n",
        "    if order not in d:\n",
        "        d[order] = 'None'\n",
        "\n",
        "sub = pd.DataFrame.from_dict(d, orient='index')\n",
        "\n",
        "sub.reset_index(inplace=True)\n",
        "sub.columns = ['order_id', 'products']\n",
        "sub.to_csv('submission.csv', index=False)\n",
        "\n"
      ],
      "execution_count": null,
      "outputs": []
    }
  ]
}