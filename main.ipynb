{
  "nbformat": 4,
  "nbformat_minor": 0,
  "metadata": {
    "colab": {
      "name": "main.ipynb",
      "provenance": [],
      "collapsed_sections": [],
      "mount_file_id": "1-afCFGi7DdWKnZ11X3l74VccIeEckG7F",
      "authorship_tag": "ABX9TyNgWWMW9/f3vtcmN3VgVO7b",
      "include_colab_link": true
    },
    "kernelspec": {
      "name": "python3",
      "display_name": "Python 3"
    },
    "language_info": {
      "name": "python"
    }
  },
  "cells": [
    {
      "cell_type": "markdown",
      "metadata": {
        "id": "view-in-github",
        "colab_type": "text"
      },
      "source": [
        "<a href=\"https://colab.research.google.com/github/Squrro/DSAI-HW4/blob/main/main.ipynb\" target=\"_parent\"><img src=\"https://colab.research.google.com/assets/colab-badge.svg\" alt=\"Open In Colab\"/></a>"
      ]
    },
    {
      "cell_type": "markdown",
      "metadata": {
        "id": "an6fUQ1wyWCo"
      },
      "source": [
        "##Read Preprocessing data & train"
      ]
    },
    {
      "cell_type": "code",
      "metadata": {
        "id": "FDa-qN20xVdi"
      },
      "source": [
        "import numpy as np\n",
        "import pandas as pd\n",
        "import lightgbm as lgb\n",
        "import warnings\n",
        "warnings.filterwarnings(\"ignore\")\n",
        "labels = np.load('pre/label.npy')\n",
        "df_train = pd.read_csv('pre/pre_data.csv')\n",
        "df_test = pd.read_csv('pre/test_data.csv')"
      ],
      "execution_count": 1,
      "outputs": []
    },
    {
      "cell_type": "code",
      "metadata": {
        "colab": {
          "base_uri": "https://localhost:8080/"
        },
        "id": "dkrXxKwinQ91",
        "outputId": "51de95f6-749b-47cd-a703-1b5a2f966b4c"
      },
      "source": [
        "\n",
        "f_to_use = ['user_total_orders', 'user_total_items', 'total_distinct_items',\n",
        "       'user_average_days_between_orders', 'user_average_basket',\n",
        "       'order_hour_of_day', 'days_since_prior_order', 'days_since_ratio',\n",
        "       'aisle_id', 'department_id', 'product_orders', 'product_reorders',\n",
        "       'product_reorder_rate', 'UP_orders', 'UP_orders_ratio',\n",
        "       'UP_average_pos_in_cart', 'UP_reorder_rate', 'UP_orders_since_last',\n",
        "       'UP_delta_hour_vs_last'] # 'dow', 'UP_same_dow_as_last_order'\n",
        "\n",
        "\n",
        "print('formating for lgb')\n",
        "d_train = lgb.Dataset(df_train[f_to_use],\n",
        "                      label=labels,\n",
        "                      categorical_feature=['aisle_id', 'department_id'])  # , 'order_hour_of_day', 'dow'\n",
        "# del df_train\n",
        "df_train.info()"
      ],
      "execution_count": 2,
      "outputs": [
        {
          "output_type": "stream",
          "text": [
            "formating for lgb\n",
            "<class 'pandas.core.frame.DataFrame'>\n",
            "RangeIndex: 8474661 entries, 0 to 8474660\n",
            "Data columns (total 21 columns):\n",
            " #   Column                            Dtype  \n",
            "---  ------                            -----  \n",
            " 0   order_id                          int64  \n",
            " 1   product_id                        int64  \n",
            " 2   user_total_orders                 int64  \n",
            " 3   user_total_items                  int64  \n",
            " 4   total_distinct_items              int64  \n",
            " 5   user_average_days_between_orders  float64\n",
            " 6   user_average_basket               float64\n",
            " 7   order_hour_of_day                 int64  \n",
            " 8   days_since_prior_order            float64\n",
            " 9   days_since_ratio                  float64\n",
            " 10  aisle_id                          int64  \n",
            " 11  department_id                     int64  \n",
            " 12  product_orders                    int64  \n",
            " 13  product_reorders                  float64\n",
            " 14  product_reorder_rate              float64\n",
            " 15  UP_orders                         int64  \n",
            " 16  UP_orders_ratio                   float64\n",
            " 17  UP_average_pos_in_cart            float64\n",
            " 18  UP_reorder_rate                   float64\n",
            " 19  UP_orders_since_last              int64  \n",
            " 20  UP_delta_hour_vs_last             int64  \n",
            "dtypes: float64(9), int64(12)\n",
            "memory usage: 1.3 GB\n"
          ],
          "name": "stdout"
        }
      ]
    },
    {
      "cell_type": "code",
      "metadata": {
        "colab": {
          "base_uri": "https://localhost:8080/"
        },
        "id": "wGyA43Uvnbfq",
        "outputId": "58863562-e18a-44bd-ec06-5435d6ec91fa"
      },
      "source": [
        "params = {\n",
        "    'task': 'train',\n",
        "    'boosting_type': 'gbdt',\n",
        "    'objective': 'binary',\n",
        "    'metric': {'binary_logloss'},\n",
        "    'num_leaves': 96,\n",
        "    'max_depth': 10,\n",
        "    'feature_fraction': 0.9,\n",
        "    'bagging_fraction': 0.95,\n",
        "    'bagging_freq': 5\n",
        "}\n",
        "ROUNDS = 100\n",
        "\n",
        "print('light GBM train :-)')\n",
        "bst = lgb.train(params, d_train, ROUNDS)\n",
        "# lgb.plot_importance(bst, figsize=(9,20))\n",
        "# del d_train\n"
      ],
      "execution_count": 3,
      "outputs": [
        {
          "output_type": "stream",
          "text": [
            "light GBM train :-)\n"
          ],
          "name": "stdout"
        },
        {
          "output_type": "stream",
          "text": [
            "/usr/local/lib/python3.7/dist-packages/lightgbm/basic.py:1205: UserWarning: Using categorical_feature in Dataset.\n",
            "  warnings.warn('Using categorical_feature in Dataset.')\n"
          ],
          "name": "stderr"
        }
      ]
    },
    {
      "cell_type": "code",
      "metadata": {
        "colab": {
          "base_uri": "https://localhost:8080/",
          "height": 240
        },
        "id": "3vsJXjtBnfzl",
        "outputId": "76a68549-5aa3-4262-b733-4f282bd66f1e"
      },
      "source": [
        "### build candidates list for test ###\n",
        "\n",
        "# df_test, _ = features(test_orders)\n",
        "\n",
        "print('light GBM predict')\n",
        "preds = bst.predict(df_test[f_to_use])\n",
        "\n",
        "df_test['pred'] = preds\n"
      ],
      "execution_count": 4,
      "outputs": [
        {
          "output_type": "error",
          "ename": "NameError",
          "evalue": "ignored",
          "traceback": [
            "\u001b[0;31m---------------------------------------------------------------------------\u001b[0m",
            "\u001b[0;31mNameError\u001b[0m                                 Traceback (most recent call last)",
            "\u001b[0;32m<ipython-input-4-8ef6940b9740>\u001b[0m in \u001b[0;36m<module>\u001b[0;34m()\u001b[0m\n\u001b[1;32m      1\u001b[0m \u001b[0;31m### build candidates list for test ###\u001b[0m\u001b[0;34m\u001b[0m\u001b[0;34m\u001b[0m\u001b[0;34m\u001b[0m\u001b[0m\n\u001b[1;32m      2\u001b[0m \u001b[0;34m\u001b[0m\u001b[0m\n\u001b[0;32m----> 3\u001b[0;31m \u001b[0mdf_test\u001b[0m\u001b[0;34m,\u001b[0m \u001b[0m_\u001b[0m \u001b[0;34m=\u001b[0m \u001b[0mfeatures\u001b[0m\u001b[0;34m(\u001b[0m\u001b[0mtest_orders\u001b[0m\u001b[0;34m)\u001b[0m\u001b[0;34m\u001b[0m\u001b[0;34m\u001b[0m\u001b[0m\n\u001b[0m\u001b[1;32m      4\u001b[0m \u001b[0;34m\u001b[0m\u001b[0m\n\u001b[1;32m      5\u001b[0m \u001b[0mprint\u001b[0m\u001b[0;34m(\u001b[0m\u001b[0;34m'light GBM predict'\u001b[0m\u001b[0;34m)\u001b[0m\u001b[0;34m\u001b[0m\u001b[0;34m\u001b[0m\u001b[0m\n",
            "\u001b[0;31mNameError\u001b[0m: name 'features' is not defined"
          ]
        }
      ]
    },
    {
      "cell_type": "code",
      "metadata": {
        "id": "r_wjKyynjraw"
      },
      "source": [
        "TRESHOLD = 0.22  # guess, should be tuned with crossval on a subset of train data\n",
        "\n",
        "d = dict()\n",
        "for row in df_test.itertuples():\n",
        "    if row.pred > TRESHOLD:\n",
        "        try:\n",
        "            d[row.order_id] += ' ' + str(row.product_id)\n",
        "        except:\n",
        "            d[row.order_id] = str(row.product_id)\n",
        "\n",
        "for order in test_orders.order_id:\n",
        "    if order not in d:\n",
        "        d[order] = 'None'\n",
        "\n",
        "sub = pd.DataFrame.from_dict(d, orient='index')\n",
        "\n",
        "sub.reset_index(inplace=True)\n",
        "sub.columns = ['order_id', 'products']\n",
        "sub.to_csv('sub.csv', index=False)\n",
        "\n"
      ],
      "execution_count": null,
      "outputs": []
    }
  ]
}