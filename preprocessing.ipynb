{
  "nbformat": 4,
  "nbformat_minor": 0,
  "metadata": {
    "colab": {
      "name": "preprocessing.ipynb",
      "provenance": [],
      "collapsed_sections": [],
      "mount_file_id": "1pJuKAVe25RZzl3CjHwJQWZTZEEGyDVBr",
      "authorship_tag": "ABX9TyMBf+UqbT73W80V/YTuEeiQ",
      "include_colab_link": true
    },
    "kernelspec": {
      "name": "python3",
      "display_name": "Python 3"
    },
    "language_info": {
      "name": "python"
    }
  },
  "cells": [
    {
      "cell_type": "markdown",
      "metadata": {
        "id": "view-in-github",
        "colab_type": "text"
      },
      "source": [
        "<a href=\"https://colab.research.google.com/github/Squrro/DSAI-HW4/blob/main/preprocessing.ipynb\" target=\"_parent\"><img src=\"https://colab.research.google.com/assets/colab-badge.svg\" alt=\"Open In Colab\"/></a>"
      ]
    },
    {
      "cell_type": "code",
      "metadata": {
        "id": "OcRQk6SA35vD"
      },
      "source": [
        "# Author : Paul-Antoine Nguyen\n",
        "\n",
        "# This script considers all the products a user has ordered\n",
        "#\n",
        "# We train a model computing the probability of reorder on the \"train\" data\n",
        "#\n",
        "# For the submission, we keep the orders that have a probability of\n",
        "# reorder higher than a threshold\n",
        "\n",
        "\n",
        "import numpy as np\n",
        "import pandas as pd\n",
        "\n",
        "import warnings\n",
        "warnings.filterwarnings(\"ignore\")\n",
        "IDIR = '/content/drive/MyDrive/Colab Notebooks/資料科學/'\n"
      ],
      "execution_count": 3,
      "outputs": []
    },
    {
      "cell_type": "code",
      "metadata": {
        "id": "qJk2eqzY34bR",
        "colab": {
          "base_uri": "https://localhost:8080/"
        },
        "outputId": "62cbe6b8-9c1b-4a02-894a-dd2e1760c5c4"
      },
      "source": [
        "print('loading prior')\n",
        "priors = pd.read_csv(IDIR + 'order_products__prior.csv', dtype={\n",
        "            'order_id': np.int32,\n",
        "            'product_id': np.uint16,\n",
        "            'add_to_cart_order': np.int16,\n",
        "            'reordered': np.int8})"
      ],
      "execution_count": 4,
      "outputs": [
        {
          "output_type": "stream",
          "text": [
            "loading prior\n"
          ],
          "name": "stdout"
        }
      ]
    },
    {
      "cell_type": "code",
      "metadata": {
        "id": "Wt-RYqjY33Ix",
        "colab": {
          "base_uri": "https://localhost:8080/"
        },
        "outputId": "dbf62eae-77bf-4b12-d75b-f1b3c6f4cea5"
      },
      "source": [
        "print('loading train')\n",
        "train = pd.read_csv(IDIR + 'order_products__train.csv', dtype={\n",
        "            'order_id': np.int32,\n",
        "            'product_id': np.uint16,\n",
        "            'add_to_cart_order': np.int16,\n",
        "            'reordered': np.int8})"
      ],
      "execution_count": 5,
      "outputs": [
        {
          "output_type": "stream",
          "text": [
            "loading train\n"
          ],
          "name": "stdout"
        }
      ]
    },
    {
      "cell_type": "code",
      "metadata": {
        "id": "sWzejyLb31_w",
        "colab": {
          "base_uri": "https://localhost:8080/"
        },
        "outputId": "93430e3c-ed0c-4850-f251-f6a316313667"
      },
      "source": [
        "print('loading orders')\n",
        "orders = pd.read_csv(IDIR + 'orders.csv', dtype={\n",
        "        'order_id': np.int32,\n",
        "        'user_id': np.int32,\n",
        "        'eval_set': 'category',\n",
        "        'order_number': np.int16,\n",
        "        'order_dow': np.int8,\n",
        "        'order_hour_of_day': np.int8,\n",
        "        'days_since_prior_order': np.float32})"
      ],
      "execution_count": 6,
      "outputs": [
        {
          "output_type": "stream",
          "text": [
            "loading orders\n"
          ],
          "name": "stdout"
        }
      ]
    },
    {
      "cell_type": "code",
      "metadata": {
        "id": "Gh39kwR130ij",
        "colab": {
          "base_uri": "https://localhost:8080/"
        },
        "outputId": "ccdeb6df-1bcc-4aca-d023-4b81be1b185f"
      },
      "source": [
        "print('loading products')\n",
        "products = pd.read_csv(IDIR + 'products.csv', dtype={\n",
        "        'product_id': np.uint16,\n",
        "        'order_id': np.int32,\n",
        "        'aisle_id': np.uint8,\n",
        "        'department_id': np.uint8},\n",
        "        usecols=['product_id', 'aisle_id', 'department_id'])"
      ],
      "execution_count": 7,
      "outputs": [
        {
          "output_type": "stream",
          "text": [
            "loading products\n"
          ],
          "name": "stdout"
        }
      ]
    },
    {
      "cell_type": "code",
      "metadata": {
        "id": "NLoRBj4T3zR6",
        "colab": {
          "base_uri": "https://localhost:8080/"
        },
        "outputId": "df79ba90-81d7-4747-c7d0-eac714f938b9"
      },
      "source": [
        "print('priors {}: {}'.format(priors.shape, ', '.join(priors.columns)))\n",
        "print('orders {}: {}'.format(orders.shape, ', '.join(orders.columns)))\n",
        "print('train {}: {}'.format(train.shape, ', '.join(train.columns)))"
      ],
      "execution_count": 8,
      "outputs": [
        {
          "output_type": "stream",
          "text": [
            "priors (32434489, 4): order_id, product_id, add_to_cart_order, reordered\n",
            "orders (3421083, 7): order_id, user_id, eval_set, order_number, order_dow, order_hour_of_day, days_since_prior_order\n",
            "train (1384617, 4): order_id, product_id, add_to_cart_order, reordered\n"
          ],
          "name": "stdout"
        }
      ]
    },
    {
      "cell_type": "code",
      "metadata": {
        "id": "fv1n55C43x9m",
        "colab": {
          "base_uri": "https://localhost:8080/"
        },
        "outputId": "eb276c5c-2166-42fe-c3a9-cd81e34cea16"
      },
      "source": [
        "###\n",
        "\n",
        "print('computing product f')\n",
        "prods = pd.DataFrame()\n",
        "prods['orders'] = priors.groupby(priors.product_id).size().astype(np.int32)\n",
        "prods['reorders'] = priors['reordered'].groupby(priors.product_id).sum().astype(np.float32)\n",
        "prods['reorder_rate'] = (prods.reorders / prods.orders).astype(np.float32)\n",
        "products = products.join(prods, on='product_id')\n",
        "products.set_index('product_id', drop=False, inplace=True)\n",
        "prods.info()\n",
        "# del prods"
      ],
      "execution_count": 9,
      "outputs": [
        {
          "output_type": "stream",
          "text": [
            "computing product f\n",
            "<class 'pandas.core.frame.DataFrame'>\n",
            "UInt64Index: 49677 entries, 1 to 49688\n",
            "Data columns (total 3 columns):\n",
            " #   Column        Non-Null Count  Dtype  \n",
            "---  ------        --------------  -----  \n",
            " 0   orders        49677 non-null  int32  \n",
            " 1   reorders      49677 non-null  float32\n",
            " 2   reorder_rate  49677 non-null  float32\n",
            "dtypes: float32(2), int32(1)\n",
            "memory usage: 970.3 KB\n"
          ],
          "name": "stdout"
        }
      ]
    },
    {
      "cell_type": "code",
      "metadata": {
        "id": "KW-a4krc3whR",
        "colab": {
          "base_uri": "https://localhost:8080/"
        },
        "outputId": "c3b8422d-107b-4cab-b099-c7603190369d"
      },
      "source": [
        "print('add order info to priors')\n",
        "orders.set_index('order_id', inplace=True, drop=False)\n",
        "priors = priors.join(orders, on='order_id', rsuffix='_')\n",
        "priors.drop('order_id_', inplace=True, axis=1)"
      ],
      "execution_count": 10,
      "outputs": [
        {
          "output_type": "stream",
          "text": [
            "add order info to priors\n"
          ],
          "name": "stdout"
        }
      ]
    },
    {
      "cell_type": "code",
      "metadata": {
        "id": "mgwa0c4g3vDJ",
        "colab": {
          "base_uri": "https://localhost:8080/"
        },
        "outputId": "d1d7673a-4f49-40b8-cd0e-9fe04ca60b99"
      },
      "source": [
        "### user features\n",
        "\n",
        "\n",
        "print('computing user f')\n",
        "usr = pd.DataFrame()\n",
        "usr['average_days_between_orders'] = orders.groupby('user_id')['days_since_prior_order'].mean().astype(np.float32)\n",
        "usr['nb_orders'] = orders.groupby('user_id').size().astype(np.int16)\n",
        "\n",
        "users = pd.DataFrame()\n",
        "users['total_items'] = priors.groupby('user_id').size().astype(np.int16)\n",
        "users['all_products'] = priors.groupby('user_id')['product_id'].apply(set)\n",
        "users['total_distinct_items'] = (users.all_products.map(len)).astype(np.int16)\n",
        "\n",
        "users = users.join(usr)\n",
        "usr.info()\n",
        "# del usr\n",
        "users['average_basket'] = (users.total_items / users.nb_orders).astype(np.float32)\n",
        "print('user f', users.shape)"
      ],
      "execution_count": 11,
      "outputs": [
        {
          "output_type": "stream",
          "text": [
            "computing user f\n",
            "<class 'pandas.core.frame.DataFrame'>\n",
            "Int64Index: 206209 entries, 1 to 206209\n",
            "Data columns (total 2 columns):\n",
            " #   Column                       Non-Null Count   Dtype  \n",
            "---  ------                       --------------   -----  \n",
            " 0   average_days_between_orders  206209 non-null  float32\n",
            " 1   nb_orders                    206209 non-null  int16  \n",
            "dtypes: float32(1), int16(1)\n",
            "memory usage: 12.8 MB\n",
            "user f (206209, 6)\n"
          ],
          "name": "stdout"
        }
      ]
    },
    {
      "cell_type": "code",
      "metadata": {
        "id": "91NEXc5y3srW",
        "colab": {
          "base_uri": "https://localhost:8080/"
        },
        "outputId": "090f51da-448d-4551-88e2-cedbcdf735ce"
      },
      "source": [
        "### userXproduct features\n",
        "userXproduct = priors.copy()\n",
        "userXproduct['user_product'] = userXproduct.product_id + userXproduct.user_id * 100000\n",
        "userXproduct = userXproduct.sort_values('order_number')\n",
        "userXproduct = userXproduct \\\n",
        "    .groupby('user_product', sort=False) \\\n",
        "    .agg({'order_id': ['size', 'last'], 'add_to_cart_order': 'sum'})\n",
        "userXproduct.columns = ['nb_orders', 'last_order_id', 'sum_pos_in_cart']\n",
        "userXproduct.astype(\n",
        "    {'nb_orders': np.int16, 'last_order_id': np.int32, 'sum_pos_in_cart': np.int16}, \n",
        "    # inplace=True\n",
        "    )\n",
        "userXproduct.info()\n",
        "# del priors"
      ],
      "execution_count": 12,
      "outputs": [
        {
          "output_type": "stream",
          "text": [
            "<class 'pandas.core.frame.DataFrame'>\n",
            "Int64Index: 13307953 entries, 8623906075 to 8162533647\n",
            "Data columns (total 3 columns):\n",
            " #   Column           Dtype\n",
            "---  ------           -----\n",
            " 0   nb_orders        int64\n",
            " 1   last_order_id    int32\n",
            " 2   sum_pos_in_cart  int16\n",
            "dtypes: int16(1), int32(1), int64(1)\n",
            "memory usage: 279.2 MB\n"
          ],
          "name": "stdout"
        }
      ]
    },
    {
      "cell_type": "code",
      "metadata": {
        "id": "YaQqJSJQ3sOp",
        "colab": {
          "base_uri": "https://localhost:8080/"
        },
        "outputId": "5bc8ee59-7ba0-412f-a5a5-b44f44d12c1b"
      },
      "source": [
        "### train / test orders ###\n",
        "print('split orders : train, test')\n",
        "test_orders = orders[orders.eval_set == 'test']\n",
        "train_orders = orders[orders.eval_set == 'train']\n",
        "\n",
        "train.set_index(['order_id', 'product_id'], inplace=True, drop=False)"
      ],
      "execution_count": 13,
      "outputs": [
        {
          "output_type": "stream",
          "text": [
            "split orders : train, test\n"
          ],
          "name": "stdout"
        }
      ]
    },
    {
      "cell_type": "code",
      "metadata": {
        "id": "_gGzrBLIxHdA"
      },
      "source": [
        "### build list of candidate products to reorder, with features ###\n",
        "\n",
        "def features(selected_orders, labels_given=False,what=1):\n",
        "    print('build candidate list')\n",
        "    order_list = []\n",
        "    product_list = []\n",
        "    labels = []\n",
        "    i=0\n",
        "\n",
        "    train_index = set(train.index)     \n",
        "\n",
        "    for row in selected_orders.itertuples():\n",
        "        i+=1\n",
        "        if i%10000 == 0: print('order row',i)\n",
        "        user_id = row.user_id\n",
        "        order_id = row.order_id\n",
        "        user_prods = users['all_products'][user_id]\n",
        "        product_list += user_prods\n",
        "        order_list += [order_id] * len(user_prods)\n",
        "\n",
        "        if labels_given:\n",
        "            labels += [(order_id, prod) in train_index for prod in user_prods]\n",
        "    \n",
        "    # for row in selected_orders.itertuples():\n",
        "    #     i+=1\n",
        "    #     if i%10000 == 0: print('order row',i)\n",
        "    #     order_id = row.order_id\n",
        "    #     user_id = row.user_id\n",
        "    #     user_products = users.all_products[user_id]\n",
        "    #     product_list += user_products\n",
        "    #     order_list += [order_id] * len(user_products)\n",
        "    #     if labels_given:\n",
        "    #         labels += [(order_id, product) in train.index for product in user_products]\n",
        "    \n",
        "    df = pd.DataFrame({'order_id':order_list, 'product_id':product_list}, dtype=np.int32)\n",
        "    labels = np.array(labels, dtype=np.int8)\n",
        "    del order_list\n",
        "    del product_list\n",
        "    \n",
        "    print('user related features')\n",
        "    df['user_id'] = df.order_id.map(orders.user_id)\n",
        "    df['user_total_orders'] = df.user_id.map(users.nb_orders)\n",
        "    df['user_total_items'] = df.user_id.map(users.total_items)\n",
        "    df['total_distinct_items'] = df.user_id.map(users.total_distinct_items)\n",
        "    df['user_average_days_between_orders'] = df.user_id.map(users.average_days_between_orders)\n",
        "    df['user_average_basket'] =  df.user_id.map(users.average_basket)\n",
        "    \n",
        "    print('order related features')\n",
        "    # df['dow'] = df.order_id.map(orders.order_dow)\n",
        "    df['order_hour_of_day'] = df.order_id.map(orders.order_hour_of_day)\n",
        "    df['days_since_prior_order'] = df.order_id.map(orders.days_since_prior_order)\n",
        "    df['days_since_ratio'] = df.days_since_prior_order / df.user_average_days_between_orders\n",
        "    \n",
        "    print('product related features')\n",
        "    df['aisle_id'] = df.product_id.map(products.aisle_id)\n",
        "    df['department_id'] = df.product_id.map(products.department_id)\n",
        "    df['product_orders'] = df.product_id.map(products.orders).astype(np.int32)\n",
        "    df['product_reorders'] = df.product_id.map(products.reorders)\n",
        "    df['product_reorder_rate'] = df.product_id.map(products.reorder_rate)\n",
        "\n",
        "    print('user_X_product related features')\n",
        "    df['z'] = df.user_id * 100000 + df.product_id\n",
        "    df.drop(['user_id'], axis=1, inplace=True)\n",
        "    df['UP_orders'] = df.z.map(userXproduct.nb_orders)\n",
        "    df['UP_orders_ratio'] = (df.UP_orders / df.user_total_orders).astype(np.float32)\n",
        "    df['UP_last_order_id'] = df.z.map(userXproduct.last_order_id)\n",
        "    df['UP_average_pos_in_cart'] = (df.z.map(userXproduct.sum_pos_in_cart) / df.UP_orders).astype(np.float32)\n",
        "    df['UP_reorder_rate'] = (df.UP_orders / df.user_total_orders).astype(np.float32)\n",
        "    df['UP_orders_since_last'] = df.user_total_orders - df.UP_last_order_id.map(orders.order_number)\n",
        "    df['UP_delta_hour_vs_last'] = abs(df.order_hour_of_day - df.UP_last_order_id.map(orders.order_hour_of_day)).map(lambda x: min(x, 24-x)).astype(np.int8)\n",
        "    #df['UP_same_dow_as_last_order'] = df.UP_last_order_id.map(orders.order_dow) == \\\n",
        "    #                                              df.order_id.map(orders.order_dow)\n",
        "\n",
        "    df.drop(['UP_last_order_id', 'z'], axis=1, inplace=True)\n",
        "    if what == 1:\n",
        "      df.to_csv('pre/pre_data.csv', index=False)\n",
        "      np.save('pre/label',labels)\n",
        "    elif what == 0:\n",
        "      df.to_csv('pre/test_data.csv', index=False)\n",
        "    print(df.dtypes)\n",
        "    print(df.memory_usage())\n",
        "    # return (df, labels)"
      ],
      "execution_count": 31,
      "outputs": []
    },
    {
      "cell_type": "code",
      "metadata": {
        "colab": {
          "base_uri": "https://localhost:8080/"
        },
        "id": "9jwv5VIp4Wk7",
        "outputId": "b33955ae-22a7-4c3b-80c0-cf619edd7e5e"
      },
      "source": [
        "features(train_orders, labels_given=True,what=1)\n",
        "features(test_orders,what=0)"
      ],
      "execution_count": 33,
      "outputs": [
        {
          "output_type": "stream",
          "text": [
            "build candidate list\n",
            "order row 10000\n",
            "order row 20000\n",
            "order row 30000\n",
            "order row 40000\n",
            "order row 50000\n",
            "order row 60000\n",
            "order row 70000\n",
            "order row 80000\n",
            "order row 90000\n",
            "order row 100000\n",
            "order row 110000\n",
            "order row 120000\n",
            "order row 130000\n",
            "user related features\n",
            "order related features\n",
            "product related features\n",
            "user_X_product related features\n",
            "order_id                              int32\n",
            "product_id                            int32\n",
            "user_total_orders                     int16\n",
            "user_total_items                      int16\n",
            "total_distinct_items                  int16\n",
            "user_average_days_between_orders    float32\n",
            "user_average_basket                 float32\n",
            "order_hour_of_day                      int8\n",
            "days_since_prior_order              float32\n",
            "days_since_ratio                    float32\n",
            "aisle_id                              uint8\n",
            "department_id                         uint8\n",
            "product_orders                        int32\n",
            "product_reorders                    float32\n",
            "product_reorder_rate                float32\n",
            "UP_orders                             int64\n",
            "UP_orders_ratio                     float32\n",
            "UP_average_pos_in_cart              float32\n",
            "UP_reorder_rate                     float32\n",
            "UP_orders_since_last                  int16\n",
            "UP_delta_hour_vs_last                  int8\n",
            "dtype: object\n",
            "Index                                    128\n",
            "order_id                            33898644\n",
            "product_id                          33898644\n",
            "user_total_orders                   16949322\n",
            "user_total_items                    16949322\n",
            "total_distinct_items                16949322\n",
            "user_average_days_between_orders    33898644\n",
            "user_average_basket                 33898644\n",
            "order_hour_of_day                    8474661\n",
            "days_since_prior_order              33898644\n",
            "days_since_ratio                    33898644\n",
            "aisle_id                             8474661\n",
            "department_id                        8474661\n",
            "product_orders                      33898644\n",
            "product_reorders                    33898644\n",
            "product_reorder_rate                33898644\n",
            "UP_orders                           67797288\n",
            "UP_orders_ratio                     33898644\n",
            "UP_average_pos_in_cart              33898644\n",
            "UP_reorder_rate                     33898644\n",
            "UP_orders_since_last                16949322\n",
            "UP_delta_hour_vs_last                8474661\n",
            "dtype: int64\n",
            "build candidate list\n",
            "order row 10000\n",
            "order row 20000\n",
            "order row 30000\n",
            "order row 40000\n",
            "order row 50000\n",
            "order row 60000\n",
            "order row 70000\n",
            "user related features\n",
            "order related features\n",
            "product related features\n",
            "user_X_product related features\n",
            "order_id                              int32\n",
            "product_id                            int32\n",
            "user_total_orders                     int16\n",
            "user_total_items                      int16\n",
            "total_distinct_items                  int16\n",
            "user_average_days_between_orders    float32\n",
            "user_average_basket                 float32\n",
            "order_hour_of_day                      int8\n",
            "days_since_prior_order              float32\n",
            "days_since_ratio                    float32\n",
            "aisle_id                              uint8\n",
            "department_id                         uint8\n",
            "product_orders                        int32\n",
            "product_reorders                    float32\n",
            "product_reorder_rate                float32\n",
            "UP_orders                             int64\n",
            "UP_orders_ratio                     float32\n",
            "UP_average_pos_in_cart              float32\n",
            "UP_reorder_rate                     float32\n",
            "UP_orders_since_last                  int16\n",
            "UP_delta_hour_vs_last                  int8\n",
            "dtype: object\n",
            "Index                                    128\n",
            "order_id                            19333168\n",
            "product_id                          19333168\n",
            "user_total_orders                    9666584\n",
            "user_total_items                     9666584\n",
            "total_distinct_items                 9666584\n",
            "user_average_days_between_orders    19333168\n",
            "user_average_basket                 19333168\n",
            "order_hour_of_day                    4833292\n",
            "days_since_prior_order              19333168\n",
            "days_since_ratio                    19333168\n",
            "aisle_id                             4833292\n",
            "department_id                        4833292\n",
            "product_orders                      19333168\n",
            "product_reorders                    19333168\n",
            "product_reorder_rate                19333168\n",
            "UP_orders                           38666336\n",
            "UP_orders_ratio                     19333168\n",
            "UP_average_pos_in_cart              19333168\n",
            "UP_reorder_rate                     19333168\n",
            "UP_orders_since_last                 9666584\n",
            "UP_delta_hour_vs_last                4833292\n",
            "dtype: int64\n"
          ],
          "name": "stdout"
        }
      ]
    }
  ]
}